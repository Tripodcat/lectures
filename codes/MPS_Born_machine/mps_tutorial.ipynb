{
 "cells": [
  {
   "cell_type": "markdown",
   "metadata": {
    "slideshow": {
     "slide_type": "slide"
    }
   },
   "source": [
    "# A simple implementation of the MPS Born Machine\n",
    "[Pan Zhang](http://lib.itp.ac.cn/html/panzhang/)  \n",
    "Institute of Theoretical Physics, Chinese Academy of Sciences  \n",
    "Reference: Z. Han, J. Wang, H. Fan, L. Wang and P. Zhang, [Phys. Rev. X 8, 031012 (2018)](https://journals.aps.org/prx/abstract/10.1103/PhysRevX.8.031012)\n",
    "\n",
    "Date: 2019 05 09"
   ]
  },
  {
   "cell_type": "markdown",
   "metadata": {
    "slideshow": {
     "slide_type": "subslide"
    }
   },
   "source": [
    "In this tutorial I would introduce:\n",
    "* Constructing matrix product states"
   ]
  },
  {
   "cell_type": "markdown",
   "metadata": {
    "slideshow": {
     "slide_type": "fragment"
    }
   },
   "source": [
    "* Canonicalization of the MPS using QR"
   ]
  },
  {
   "cell_type": "markdown",
   "metadata": {
    "slideshow": {
     "slide_type": "fragment"
    }
   },
   "source": [
    "* Single-site update of MPS"
   ]
  },
  {
   "cell_type": "markdown",
   "metadata": {
    "slideshow": {
     "slide_type": "fragment"
    }
   },
   "source": [
    "* Gradient based single-site learning algorithm"
   ]
  },
  {
   "cell_type": "markdown",
   "metadata": {
    "slideshow": {
     "slide_type": "fragment"
    }
   },
   "source": [
    "* How to accelarate tensor contractions using GPU."
   ]
  },
  {
   "cell_type": "code",
   "execution_count": 1,
   "metadata": {
    "slideshow": {
     "slide_type": "slide"
    }
   },
   "outputs": [],
   "source": [
    "import sys\n",
    "import numpy as np\n",
    "import torch \n",
    "import math,time\n",
    "%matplotlib inline\n",
    "import matplotlib.pyplot as plt\n",
    "\n",
    "torch.manual_seed(1) # Fix seed of the random number generators\n",
    "np.random.seed(1)"
   ]
  },
  {
   "cell_type": "markdown",
   "metadata": {
    "slideshow": {
     "slide_type": "slide"
    }
   },
   "source": [
    "The function below is used to plot mnist images"
   ]
  },
  {
   "cell_type": "markdown",
   "metadata": {
    "slideshow": {
     "slide_type": "slide"
    }
   },
   "source": [
    "### Data loading\n",
    "$1000$ MNIST images have been stored as \"mnist784_bin_1000.npy\".  \n",
    "Each image contains $n=28\\times 28=784$ pixels, each of which takes value $0$ or $1$.  \n",
    "Each image is viewed as a product state in the Hilbert space of dimension $2^n$."
   ]
  },
  {
   "cell_type": "code",
   "execution_count": 21,
   "metadata": {
    "slideshow": {
     "slide_type": "fragment"
    }
   },
   "outputs": [],
   "source": [
    "n=784 # number of qubits\n",
    "#m=1000 # m images\n",
    "m=20\n",
    "data=np.load(\"mnist784_bin_1000.npy\").astype(np.int32)\n",
    "data=data[:m,:]\n",
    "data=torch.LongTensor(data)"
   ]
  },
  {
   "cell_type": "code",
   "execution_count": 22,
   "metadata": {
    "slideshow": {
     "slide_type": "subslide"
    }
   },
   "outputs": [
    {
     "data": {
      "image/png": "[encoded data removed]",
      "text/plain": [
       "<Figure size 720x144 with 20 Axes>"
      ]
     },
     "metadata": {},
     "output_type": "display_data"
    }
   ],
   "source": [
    "def show_imgs(imgs,l1=4,l2=5,s1=6,s2=6):\n",
    "    \"\"\"    Plot images    \"\"\"\n",
    "    plt.rcParams['figure.figsize']=(s1,s2)\n",
    "    imgs=imgs.cpu().reshape([-1,28,28])\n",
    "    g, ax = plt.subplots(l1,l2)\n",
    "    for i in range(l1): \n",
    "        for j in range(l2):\n",
    "            a=i*l2+j\n",
    "            if(a>=imgs.shape[0]):\n",
    "                break\n",
    "            ax[i][j].imshow(imgs[a,:,:],cmap='summer')\n",
    "            ax[i][j].set_xticks([])\n",
    "            ax[i][j].set_yticks([])\n",
    "    plt.show()\n",
    "    \n",
    "show_imgs(data,2,10,10,2)"
   ]
  },
  {
   "cell_type": "code",
   "execution_count": 23,
   "metadata": {
    "slideshow": {
     "slide_type": "subslide"
    }
   },
   "outputs": [
    {
     "name": "stdout",
     "output_type": "stream",
     "text": [
      "shape of data is  torch.Size([20, 784])\n",
      "tensor([[0, 0, 0,  ..., 0, 0, 0],\n",
      "        [0, 0, 0,  ..., 0, 0, 0],\n",
      "        [0, 0, 0,  ..., 0, 0, 0],\n",
      "        ...,\n",
      "        [0, 0, 0,  ..., 0, 0, 0],\n",
      "        [0, 0, 0,  ..., 0, 0, 0],\n",
      "        [0, 0, 0,  ..., 0, 0, 0]])\n"
     ]
    }
   ],
   "source": [
    "print(\"shape of data is \",data.shape )\n",
    "print(data)"
   ]
  },
  {
   "cell_type": "markdown",
   "metadata": {
    "slideshow": {
     "slide_type": "slide"
    }
   },
   "source": [
    "### MPS initialization\n",
    "Define the mps, which is a list of 3-way tensors containing random values \n",
    "<img src=\"assets/init.png\" width=\"650px\"/>"
   ]
  },
  {
   "cell_type": "code",
   "execution_count": 20,
   "metadata": {
    "slideshow": {
     "slide_type": "fragment"
    }
   },
   "outputs": [],
   "source": [
    "Dmax=30 # maximum bond dimension\n",
    "#mydevice=torch.device(\"cuda:0\")\n",
    "mydevice=torch.device(\"cpu\")\n",
    "data=data.to(mydevice)\n",
    "bond_dims=[Dmax for i in range(n-1)]+[1]\n",
    "tensors= [ torch.randn(bond_dims[i-1],2,bond_dims[i],device=mydevice) for i in range(n)]\n",
    "\n"
   ]
  },
  {
   "cell_type": "code",
   "execution_count": 24,
   "metadata": {
    "slideshow": {
     "slide_type": "subslide"
    }
   },
   "outputs": [
    {
     "name": "stdout",
     "output_type": "stream",
     "text": [
      "shape of tensors is 784\n",
      "[torch.Size([1, 2, 30]), torch.Size([30, 2, 30]), torch.Size([30, 2, 30]), torch.Size([30, 2, 30]), torch.Size([30, 2, 30]), torch.Size([30, 2, 30]), torch.Size([30, 2, 30]), torch.Size([30, 2, 30]), torch.Size([30, 2, 30]), torch.Size([30, 2, 30]), torch.Size([30, 2, 30]), torch.Size([30, 2, 30]), torch.Size([30, 2, 30]), torch.Size([30, 2, 30]), torch.Size([30, 2, 30]), torch.Size([30, 2, 30]), torch.Size([30, 2, 30]), torch.Size([30, 2, 30]), torch.Size([30, 2, 30]), torch.Size([30, 2, 30]), torch.Size([30, 2, 30]), torch.Size([30, 2, 30]), torch.Size([30, 2, 30]), torch.Size([30, 2, 30]), torch.Size([30, 2, 30]), torch.Size([30, 2, 30]), torch.Size([30, 2, 30]), torch.Size([30, 2, 30]), torch.Size([30, 2, 30]), torch.Size([30, 2, 30]), torch.Size([30, 2, 30]), torch.Size([30, 2, 30]), torch.Size([30, 2, 30]), torch.Size([30, 2, 30]), torch.Size([30, 2, 30]), torch.Size([30, 2, 30]), torch.Size([30, 2, 30]), torch.Size([30, 2, 30]), torch.Size([30, 2, 30]), torch.Size([30, 2, 30]), torch.Size([30, 2, 30]), torch.Size([30, 2, 30]), torch.Size([30, 2, 30]), torch.Size([30, 2, 30]), torch.Size([30, 2, 30]), torch.Size([30, 2, 30]), torch.Size([30, 2, 30]), torch.Size([30, 2, 30]), torch.Size([30, 2, 30]), torch.Size([30, 2, 30]), torch.Size([30, 2, 30]), torch.Size([30, 2, 30]), torch.Size([30, 2, 30]), torch.Size([30, 2, 30]), torch.Size([30, 2, 30]), torch.Size([30, 2, 30]), torch.Size([30, 2, 30]), torch.Size([30, 2, 30]), torch.Size([30, 2, 30]), torch.Size([30, 2, 30]), torch.Size([30, 2, 30]), torch.Size([30, 2, 30]), torch.Size([30, 2, 30]), torch.Size([30, 2, 30]), torch.Size([30, 2, 30]), torch.Size([30, 2, 30]), torch.Size([30, 2, 30]), torch.Size([30, 2, 30]), torch.Size([30, 2, 30]), torch.Size([30, 2, 30]), torch.Size([30, 2, 30]), torch.Size([30, 2, 30]), torch.Size([30, 2, 30]), torch.Size([30, 2, 30]), torch.Size([30, 2, 30]), torch.Size([30, 2, 30]), torch.Size([30, 2, 30]), torch.Size([30, 2, 30]), torch.Size([30, 2, 30]), torch.Size([30, 2, 30]), torch.Size([30, 2, 30]), torch.Size([30, 2, 30]), torch.Size([30, 2, 30]), torch.Size([30, 2, 30]), torch.Size([30, 2, 30]), torch.Size([30, 2, 30]), torch.Size([30, 2, 30]), torch.Size([30, 2, 30]), torch.Size([30, 2, 30]), torch.Size([30, 2, 30]), torch.Size([30, 2, 30]), torch.Size([30, 2, 30]), torch.Size([30, 2, 30]), torch.Size([30, 2, 30]), torch.Size([30, 2, 30]), torch.Size([30, 2, 30]), torch.Size([30, 2, 30]), torch.Size([30, 2, 30]), torch.Size([30, 2, 30]), torch.Size([30, 2, 30]), torch.Size([30, 2, 30]), torch.Size([30, 2, 30]), torch.Size([30, 2, 30]), torch.Size([30, 2, 30]), torch.Size([30, 2, 30]), torch.Size([30, 2, 30]), torch.Size([30, 2, 30]), torch.Size([30, 2, 30]), torch.Size([30, 2, 30]), torch.Size([30, 2, 30]), torch.Size([30, 2, 30]), torch.Size([30, 2, 30]), torch.Size([30, 2, 30]), torch.Size([30, 2, 30]), torch.Size([30, 2, 30]), torch.Size([30, 2, 30]), torch.Size([30, 2, 30]), torch.Size([30, 2, 30]), torch.Size([30, 2, 30]), torch.Size([30, 2, 30]), torch.Size([30, 2, 30]), torch.Size([30, 2, 30]), torch.Size([30, 2, 30]), torch.Size([30, 2, 30]), torch.Size([30, 2, 30]), torch.Size([30, 2, 30]), torch.Size([30, 2, 30]), torch.Size([30, 2, 30]), torch.Size([30, 2, 30]), torch.Size([30, 2, 30]), torch.Size([30, 2, 30]), torch.Size([30, 2, 30]), torch.Size([30, 2, 30]), torch.Size([30, 2, 30]), torch.Size([30, 2, 30]), torch.Size([30, 2, 30]), torch.Size([30, 2, 30]), torch.Size([30, 2, 30]), torch.Size([30, 2, 30]), torch.Size([30, 2, 30]), torch.Size([30, 2, 30]), torch.Size([30, 2, 30]), torch.Size([30, 2, 30]), torch.Size([30, 2, 30]), torch.Size([30, 2, 30]), torch.Size([30, 2, 30]), torch.Size([30, 2, 30]), torch.Size([30, 2, 30]), torch.Size([30, 2, 30]), torch.Size([30, 2, 30]), torch.Size([30, 2, 30]), torch.Size([30, 2, 30]), torch.Size([30, 2, 30]), torch.Size([30, 2, 30]), torch.Size([30, 2, 30]), torch.Size([30, 2, 30]), torch.Size([30, 2, 30]), torch.Size([30, 2, 30]), torch.Size([30, 2, 30]), torch.Size([30, 2, 30]), torch.Size([30, 2, 30]), torch.Size([30, 2, 30]), torch.Size([30, 2, 30]), torch.Size([30, 2, 30]), torch.Size([30, 2, 30]), torch.Size([30, 2, 30]), torch.Size([30, 2, 30]), torch.Size([30, 2, 30]), torch.Size([30, 2, 30]), torch.Size([30, 2, 30]), torch.Size([30, 2, 30]), torch.Size([30, 2, 30]), torch.Size([30, 2, 30]), torch.Size([30, 2, 30]), torch.Size([30, 2, 30]), torch.Size([30, 2, 30]), torch.Size([30, 2, 30]), torch.Size([30, 2, 30]), torch.Size([30, 2, 30]), torch.Size([30, 2, 30]), torch.Size([30, 2, 30]), torch.Size([30, 2, 30]), torch.Size([30, 2, 30]), torch.Size([30, 2, 30]), torch.Size([30, 2, 30]), torch.Size([30, 2, 30]), torch.Size([30, 2, 30]), torch.Size([30, 2, 30]), torch.Size([30, 2, 30]), torch.Size([30, 2, 30]), torch.Size([30, 2, 30]), torch.Size([30, 2, 30]), torch.Size([30, 2, 30]), torch.Size([30, 2, 30]), torch.Size([30, 2, 30]), torch.Size([30, 2, 30]), torch.Size([30, 2, 30]), torch.Size([30, 2, 30]), torch.Size([30, 2, 30]), torch.Size([30, 2, 30]), torch.Size([30, 2, 30]), torch.Size([30, 2, 30]), torch.Size([30, 2, 30]), torch.Size([30, 2, 30]), torch.Size([30, 2, 30]), torch.Size([30, 2, 30]), torch.Size([30, 2, 30]), torch.Size([30, 2, 30]), torch.Size([30, 2, 30]), torch.Size([30, 2, 30]), torch.Size([30, 2, 30]), torch.Size([30, 2, 30]), torch.Size([30, 2, 30]), torch.Size([30, 2, 30]), torch.Size([30, 2, 30]), torch.Size([30, 2, 30]), torch.Size([30, 2, 30]), torch.Size([30, 2, 30]), torch.Size([30, 2, 30]), torch.Size([30, 2, 30]), torch.Size([30, 2, 30]), torch.Size([30, 2, 30]), torch.Size([30, 2, 30]), torch.Size([30, 2, 30]), torch.Size([30, 2, 30]), torch.Size([30, 2, 30]), torch.Size([30, 2, 30]), torch.Size([30, 2, 30]), torch.Size([30, 2, 30]), torch.Size([30, 2, 30]), torch.Size([30, 2, 30]), torch.Size([30, 2, 30]), torch.Size([30, 2, 30]), torch.Size([30, 2, 30]), torch.Size([30, 2, 30]), torch.Size([30, 2, 30]), torch.Size([30, 2, 30]), torch.Size([30, 2, 30]), torch.Size([30, 2, 30]), torch.Size([30, 2, 30]), torch.Size([30, 2, 30]), torch.Size([30, 2, 30]), torch.Size([30, 2, 30]), torch.Size([30, 2, 30]), torch.Size([30, 2, 30]), torch.Size([30, 2, 30]), torch.Size([30, 2, 30]), torch.Size([30, 2, 30]), torch.Size([30, 2, 30]), torch.Size([30, 2, 30]), torch.Size([30, 2, 30]), torch.Size([30, 2, 30]), torch.Size([30, 2, 30]), torch.Size([30, 2, 30]), torch.Size([30, 2, 30]), torch.Size([30, 2, 30]), torch.Size([30, 2, 30]), torch.Size([30, 2, 30]), torch.Size([30, 2, 30]), torch.Size([30, 2, 30]), torch.Size([30, 2, 30]), torch.Size([30, 2, 30]), torch.Size([30, 2, 30]), torch.Size([30, 2, 30]), torch.Size([30, 2, 30]), torch.Size([30, 2, 30]), torch.Size([30, 2, 30]), torch.Size([30, 2, 30]), torch.Size([30, 2, 30]), torch.Size([30, 2, 30]), torch.Size([30, 2, 30]), torch.Size([30, 2, 30]), torch.Size([30, 2, 30]), torch.Size([30, 2, 30]), torch.Size([30, 2, 30]), torch.Size([30, 2, 30]), torch.Size([30, 2, 30]), torch.Size([30, 2, 30]), torch.Size([30, 2, 30]), torch.Size([30, 2, 30]), torch.Size([30, 2, 30]), torch.Size([30, 2, 30]), torch.Size([30, 2, 30]), torch.Size([30, 2, 30]), torch.Size([30, 2, 30]), torch.Size([30, 2, 30]), torch.Size([30, 2, 30]), torch.Size([30, 2, 30]), torch.Size([30, 2, 30]), torch.Size([30, 2, 30]), torch.Size([30, 2, 30]), torch.Size([30, 2, 30]), torch.Size([30, 2, 30]), torch.Size([30, 2, 30]), torch.Size([30, 2, 30]), torch.Size([30, 2, 30]), torch.Size([30, 2, 30]), torch.Size([30, 2, 30]), torch.Size([30, 2, 30]), torch.Size([30, 2, 30]), torch.Size([30, 2, 30]), torch.Size([30, 2, 30]), torch.Size([30, 2, 30]), torch.Size([30, 2, 30]), torch.Size([30, 2, 30]), torch.Size([30, 2, 30]), torch.Size([30, 2, 30]), torch.Size([30, 2, 30]), torch.Size([30, 2, 30]), torch.Size([30, 2, 30]), torch.Size([30, 2, 30]), torch.Size([30, 2, 30]), torch.Size([30, 2, 30]), torch.Size([30, 2, 30]), torch.Size([30, 2, 30]), torch.Size([30, 2, 30]), torch.Size([30, 2, 30]), torch.Size([30, 2, 30]), torch.Size([30, 2, 30]), torch.Size([30, 2, 30]), torch.Size([30, 2, 30]), torch.Size([30, 2, 30]), torch.Size([30, 2, 30]), torch.Size([30, 2, 30]), torch.Size([30, 2, 30]), torch.Size([30, 2, 30]), torch.Size([30, 2, 30]), torch.Size([30, 2, 30]), torch.Size([30, 2, 30]), torch.Size([30, 2, 30]), torch.Size([30, 2, 30]), torch.Size([30, 2, 30]), torch.Size([30, 2, 30]), torch.Size([30, 2, 30]), torch.Size([30, 2, 30]), torch.Size([30, 2, 30]), torch.Size([30, 2, 30]), torch.Size([30, 2, 30]), torch.Size([30, 2, 30]), torch.Size([30, 2, 30]), torch.Size([30, 2, 30]), torch.Size([30, 2, 30]), torch.Size([30, 2, 30]), torch.Size([30, 2, 30]), torch.Size([30, 2, 30]), torch.Size([30, 2, 30]), torch.Size([30, 2, 30]), torch.Size([30, 2, 30]), torch.Size([30, 2, 30]), torch.Size([30, 2, 30]), torch.Size([30, 2, 30]), torch.Size([30, 2, 30]), torch.Size([30, 2, 30]), torch.Size([30, 2, 30]), torch.Size([30, 2, 30]), torch.Size([30, 2, 30]), torch.Size([30, 2, 30]), torch.Size([30, 2, 30]), torch.Size([30, 2, 30]), torch.Size([30, 2, 30]), torch.Size([30, 2, 30]), torch.Size([30, 2, 30]), torch.Size([30, 2, 30]), torch.Size([30, 2, 30]), torch.Size([30, 2, 30]), torch.Size([30, 2, 30]), torch.Size([30, 2, 30]), torch.Size([30, 2, 30]), torch.Size([30, 2, 30]), torch.Size([30, 2, 30]), torch.Size([30, 2, 30]), torch.Size([30, 2, 30]), torch.Size([30, 2, 30]), torch.Size([30, 2, 30]), torch.Size([30, 2, 30]), torch.Size([30, 2, 30]), torch.Size([30, 2, 30]), torch.Size([30, 2, 30]), torch.Size([30, 2, 30]), torch.Size([30, 2, 30]), torch.Size([30, 2, 30]), torch.Size([30, 2, 30]), torch.Size([30, 2, 30]), torch.Size([30, 2, 30]), torch.Size([30, 2, 30]), torch.Size([30, 2, 30]), torch.Size([30, 2, 30]), torch.Size([30, 2, 30]), torch.Size([30, 2, 30]), torch.Size([30, 2, 30]), torch.Size([30, 2, 30]), torch.Size([30, 2, 30]), torch.Size([30, 2, 30]), torch.Size([30, 2, 30]), torch.Size([30, 2, 30]), torch.Size([30, 2, 30]), torch.Size([30, 2, 30]), torch.Size([30, 2, 30]), torch.Size([30, 2, 30]), torch.Size([30, 2, 30]), torch.Size([30, 2, 30]), torch.Size([30, 2, 30]), torch.Size([30, 2, 30]), torch.Size([30, 2, 30]), torch.Size([30, 2, 30]), torch.Size([30, 2, 30]), torch.Size([30, 2, 30]), torch.Size([30, 2, 30]), torch.Size([30, 2, 30]), torch.Size([30, 2, 30]), torch.Size([30, 2, 30]), torch.Size([30, 2, 30]), torch.Size([30, 2, 30]), torch.Size([30, 2, 30]), torch.Size([30, 2, 30]), torch.Size([30, 2, 30]), torch.Size([30, 2, 30]), torch.Size([30, 2, 30]), torch.Size([30, 2, 30]), torch.Size([30, 2, 30]), torch.Size([30, 2, 30]), torch.Size([30, 2, 30]), torch.Size([30, 2, 30]), torch.Size([30, 2, 30]), torch.Size([30, 2, 30]), torch.Size([30, 2, 30]), torch.Size([30, 2, 30]), torch.Size([30, 2, 30]), torch.Size([30, 2, 30]), torch.Size([30, 2, 30]), torch.Size([30, 2, 30]), torch.Size([30, 2, 30]), torch.Size([30, 2, 30]), torch.Size([30, 2, 30]), torch.Size([30, 2, 30]), torch.Size([30, 2, 30]), torch.Size([30, 2, 30]), torch.Size([30, 2, 30]), torch.Size([30, 2, 30]), torch.Size([30, 2, 30]), torch.Size([30, 2, 30]), torch.Size([30, 2, 30]), torch.Size([30, 2, 30]), torch.Size([30, 2, 30]), torch.Size([30, 2, 30]), torch.Size([30, 2, 30]), torch.Size([30, 2, 30]), torch.Size([30, 2, 30]), torch.Size([30, 2, 30]), torch.Size([30, 2, 30]), torch.Size([30, 2, 30]), torch.Size([30, 2, 30]), torch.Size([30, 2, 30]), torch.Size([30, 2, 30]), torch.Size([30, 2, 30]), torch.Size([30, 2, 30]), torch.Size([30, 2, 30]), torch.Size([30, 2, 30]), torch.Size([30, 2, 30]), torch.Size([30, 2, 30]), torch.Size([30, 2, 30]), torch.Size([30, 2, 30]), torch.Size([30, 2, 30]), torch.Size([30, 2, 30]), torch.Size([30, 2, 30]), torch.Size([30, 2, 30]), torch.Size([30, 2, 30]), torch.Size([30, 2, 30]), torch.Size([30, 2, 30]), torch.Size([30, 2, 30]), torch.Size([30, 2, 30]), torch.Size([30, 2, 30]), torch.Size([30, 2, 30]), torch.Size([30, 2, 30]), torch.Size([30, 2, 30]), torch.Size([30, 2, 30]), torch.Size([30, 2, 30]), torch.Size([30, 2, 30]), torch.Size([30, 2, 30]), torch.Size([30, 2, 30]), torch.Size([30, 2, 30]), torch.Size([30, 2, 30]), torch.Size([30, 2, 30]), torch.Size([30, 2, 30]), torch.Size([30, 2, 30]), torch.Size([30, 2, 30]), torch.Size([30, 2, 30]), torch.Size([30, 2, 30]), torch.Size([30, 2, 30]), torch.Size([30, 2, 30]), torch.Size([30, 2, 30]), torch.Size([30, 2, 30]), torch.Size([30, 2, 30]), torch.Size([30, 2, 30]), torch.Size([30, 2, 30]), torch.Size([30, 2, 30]), torch.Size([30, 2, 30]), torch.Size([30, 2, 30]), torch.Size([30, 2, 30]), torch.Size([30, 2, 30]), torch.Size([30, 2, 30]), torch.Size([30, 2, 30]), torch.Size([30, 2, 30]), torch.Size([30, 2, 30]), torch.Size([30, 2, 30]), torch.Size([30, 2, 30]), torch.Size([30, 2, 30]), torch.Size([30, 2, 30]), torch.Size([30, 2, 30]), torch.Size([30, 2, 30]), torch.Size([30, 2, 30]), torch.Size([30, 2, 30]), torch.Size([30, 2, 30]), torch.Size([30, 2, 30]), torch.Size([30, 2, 30]), torch.Size([30, 2, 30]), torch.Size([30, 2, 30]), torch.Size([30, 2, 30]), torch.Size([30, 2, 30]), torch.Size([30, 2, 30]), torch.Size([30, 2, 30]), torch.Size([30, 2, 30]), torch.Size([30, 2, 30]), torch.Size([30, 2, 30]), torch.Size([30, 2, 30]), torch.Size([30, 2, 30]), torch.Size([30, 2, 30]), torch.Size([30, 2, 30]), torch.Size([30, 2, 30]), torch.Size([30, 2, 30]), torch.Size([30, 2, 30]), torch.Size([30, 2, 30]), torch.Size([30, 2, 30]), torch.Size([30, 2, 30]), torch.Size([30, 2, 30]), torch.Size([30, 2, 30]), torch.Size([30, 2, 30]), torch.Size([30, 2, 30]), torch.Size([30, 2, 30]), torch.Size([30, 2, 30]), torch.Size([30, 2, 30]), torch.Size([30, 2, 30]), torch.Size([30, 2, 30]), torch.Size([30, 2, 30]), torch.Size([30, 2, 30]), torch.Size([30, 2, 30]), torch.Size([30, 2, 30]), torch.Size([30, 2, 30]), torch.Size([30, 2, 30]), torch.Size([30, 2, 30]), torch.Size([30, 2, 30]), torch.Size([30, 2, 30]), torch.Size([30, 2, 30]), torch.Size([30, 2, 30]), torch.Size([30, 2, 30]), torch.Size([30, 2, 30]), torch.Size([30, 2, 30]), torch.Size([30, 2, 30]), torch.Size([30, 2, 30]), torch.Size([30, 2, 30]), torch.Size([30, 2, 30]), torch.Size([30, 2, 30]), torch.Size([30, 2, 30]), torch.Size([30, 2, 30]), torch.Size([30, 2, 30]), torch.Size([30, 2, 30]), torch.Size([30, 2, 30]), torch.Size([30, 2, 30]), torch.Size([30, 2, 30]), torch.Size([30, 2, 30]), torch.Size([30, 2, 30]), torch.Size([30, 2, 30]), torch.Size([30, 2, 30]), torch.Size([30, 2, 30]), torch.Size([30, 2, 30]), torch.Size([30, 2, 30]), torch.Size([30, 2, 30]), torch.Size([30, 2, 30]), torch.Size([30, 2, 30]), torch.Size([30, 2, 30]), torch.Size([30, 2, 30]), torch.Size([30, 2, 30]), torch.Size([30, 2, 30]), torch.Size([30, 2, 30]), torch.Size([30, 2, 30]), torch.Size([30, 2, 30]), torch.Size([30, 2, 30]), torch.Size([30, 2, 30]), torch.Size([30, 2, 30]), torch.Size([30, 2, 30]), torch.Size([30, 2, 30]), torch.Size([30, 2, 30]), torch.Size([30, 2, 30]), torch.Size([30, 2, 30]), torch.Size([30, 2, 30]), torch.Size([30, 2, 30]), torch.Size([30, 2, 30]), torch.Size([30, 2, 30]), torch.Size([30, 2, 30]), torch.Size([30, 2, 30]), torch.Size([30, 2, 30]), torch.Size([30, 2, 30]), torch.Size([30, 2, 30]), torch.Size([30, 2, 30]), torch.Size([30, 2, 30]), torch.Size([30, 2, 30]), torch.Size([30, 2, 30]), torch.Size([30, 2, 30]), torch.Size([30, 2, 30]), torch.Size([30, 2, 30]), torch.Size([30, 2, 30]), torch.Size([30, 2, 30]), torch.Size([30, 2, 30]), torch.Size([30, 2, 30]), torch.Size([30, 2, 30]), torch.Size([30, 2, 30]), torch.Size([30, 2, 30]), torch.Size([30, 2, 30]), torch.Size([30, 2, 30]), torch.Size([30, 2, 30]), torch.Size([30, 2, 30]), torch.Size([30, 2, 30]), torch.Size([30, 2, 30]), torch.Size([30, 2, 30]), torch.Size([30, 2, 30]), torch.Size([30, 2, 30]), torch.Size([30, 2, 30]), torch.Size([30, 2, 30]), torch.Size([30, 2, 30]), torch.Size([30, 2, 30]), torch.Size([30, 2, 30]), torch.Size([30, 2, 30]), torch.Size([30, 2, 30]), torch.Size([30, 2, 30]), torch.Size([30, 2, 30]), torch.Size([30, 2, 30]), torch.Size([30, 2, 30]), torch.Size([30, 2, 30]), torch.Size([30, 2, 30]), torch.Size([30, 2, 30]), torch.Size([30, 2, 30]), torch.Size([30, 2, 30]), torch.Size([30, 2, 30]), torch.Size([30, 2, 30]), torch.Size([30, 2, 30]), torch.Size([30, 2, 30]), torch.Size([30, 2, 30]), torch.Size([30, 2, 30]), torch.Size([30, 2, 30]), torch.Size([30, 2, 30]), torch.Size([30, 2, 30]), torch.Size([30, 2, 30]), torch.Size([30, 2, 30]), torch.Size([30, 2, 30]), torch.Size([30, 2, 30]), torch.Size([30, 2, 30]), torch.Size([30, 2, 30]), torch.Size([30, 2, 30]), torch.Size([30, 2, 30]), torch.Size([30, 2, 30]), torch.Size([30, 2, 30]), torch.Size([30, 2, 30]), torch.Size([30, 2, 30]), torch.Size([30, 2, 30]), torch.Size([30, 2, 30]), torch.Size([30, 2, 30]), torch.Size([30, 2, 30]), torch.Size([30, 2, 30]), torch.Size([30, 2, 30]), torch.Size([30, 2, 30]), torch.Size([30, 2, 30]), torch.Size([30, 2, 30]), torch.Size([30, 2, 30]), torch.Size([30, 2, 30]), torch.Size([30, 2, 30]), torch.Size([30, 2, 30]), torch.Size([30, 2, 30]), torch.Size([30, 2, 30]), torch.Size([30, 2, 30]), torch.Size([30, 2, 30]), torch.Size([30, 2, 30]), torch.Size([30, 2, 30]), torch.Size([30, 2, 30]), torch.Size([30, 2, 30]), torch.Size([30, 2, 30]), torch.Size([30, 2, 30]), torch.Size([30, 2, 30]), torch.Size([30, 2, 30]), torch.Size([30, 2, 30]), torch.Size([30, 2, 30]), torch.Size([30, 2, 30]), torch.Size([30, 2, 30]), torch.Size([30, 2, 30]), torch.Size([30, 2, 30]), torch.Size([30, 2, 30]), torch.Size([30, 2, 30]), torch.Size([30, 2, 30]), torch.Size([30, 2, 30]), torch.Size([30, 2, 30]), torch.Size([30, 2, 30]), torch.Size([30, 2, 30]), torch.Size([30, 2, 30]), torch.Size([30, 2, 30]), torch.Size([30, 2, 30]), torch.Size([30, 2, 30]), torch.Size([30, 2, 30]), torch.Size([30, 2, 30]), torch.Size([30, 2, 30]), torch.Size([30, 2, 30]), torch.Size([30, 2, 30]), torch.Size([30, 2, 30]), torch.Size([30, 2, 30]), torch.Size([30, 2, 30]), torch.Size([30, 2, 30]), torch.Size([30, 2, 30]), torch.Size([30, 2, 30]), torch.Size([30, 2, 30]), torch.Size([30, 2, 30]), torch.Size([30, 2, 30]), torch.Size([30, 2, 30]), torch.Size([30, 2, 30]), torch.Size([30, 2, 30]), torch.Size([30, 2, 30]), torch.Size([30, 2, 30]), torch.Size([30, 2, 30]), torch.Size([30, 2, 30]), torch.Size([30, 2, 30]), torch.Size([30, 2, 30]), torch.Size([30, 2, 30]), torch.Size([30, 2, 30]), torch.Size([30, 2, 30]), torch.Size([30, 2, 30]), torch.Size([30, 2, 30]), torch.Size([30, 2, 30]), torch.Size([30, 2, 30]), torch.Size([30, 2, 30]), torch.Size([30, 2, 30]), torch.Size([30, 2, 30]), torch.Size([30, 2, 30]), torch.Size([30, 2, 30]), torch.Size([30, 2, 30]), torch.Size([30, 2, 30]), torch.Size([30, 2, 30]), torch.Size([30, 2, 30]), torch.Size([30, 2, 30]), torch.Size([30, 2, 30]), torch.Size([30, 2, 30]), torch.Size([30, 2, 30]), torch.Size([30, 2, 30]), torch.Size([30, 2, 30]), torch.Size([30, 2, 30]), torch.Size([30, 2, 30]), torch.Size([30, 2, 30]), torch.Size([30, 2, 30]), torch.Size([30, 2, 30]), torch.Size([30, 2, 30]), torch.Size([30, 2, 30]), torch.Size([30, 2, 30]), torch.Size([30, 2, 30]), torch.Size([30, 2, 30]), torch.Size([30, 2, 30]), torch.Size([30, 2, 30]), torch.Size([30, 2, 30]), torch.Size([30, 2, 30]), torch.Size([30, 2, 30]), torch.Size([30, 2, 30]), torch.Size([30, 2, 30]), torch.Size([30, 2, 30]), torch.Size([30, 2, 30]), torch.Size([30, 2, 30]), torch.Size([30, 2, 30]), torch.Size([30, 2, 30]), torch.Size([30, 2, 30]), torch.Size([30, 2, 30]), torch.Size([30, 2, 30]), torch.Size([30, 2, 30]), torch.Size([30, 2, 30]), torch.Size([30, 2, 30]), torch.Size([30, 2, 30]), torch.Size([30, 2, 30]), torch.Size([30, 2, 30]), torch.Size([30, 2, 30]), torch.Size([30, 2, 30]), torch.Size([30, 2, 1])]\n"
     ]
    }
   ],
   "source": [
    "print(\"shape of tensors is\",len(tensors))\n",
    "print([i.shape for i in tensors])"
   ]
  },
  {
   "cell_type": "markdown",
   "metadata": {
    "slideshow": {
     "slide_type": "slide"
    }
   },
   "source": [
    "Now check the bond dimensions and tensors"
   ]
  },
  {
   "cell_type": "code",
   "execution_count": 25,
   "metadata": {
    "scrolled": true,
    "slideshow": {
     "slide_type": "fragment"
    }
   },
   "outputs": [
    {
     "name": "stdout",
     "output_type": "stream",
     "text": [
      "There are 784 tensors\n",
      "[30, 30, 30, 30, 30, 30, 30, 30, 30, 30, 30, 30, 30, 30, 30, 30, 30, 30, 30, 30, 30, 30, 30, 30, 30, 30, 30, 30, 30, 30, 30, 30, 30, 30, 30, 30, 30, 30, 30, 30, 30, 30, 30, 30, 30, 30, 30, 30, 30, 30, 30, 30, 30, 30, 30, 30, 30, 30, 30, 30, 30, 30, 30, 30, 30, 30, 30, 30, 30, 30, 30, 30, 30, 30, 30, 30, 30, 30, 30, 30, 30, 30, 30, 30, 30, 30, 30, 30, 30, 30, 30, 30, 30, 30, 30, 30, 30, 30, 30, 30, 30, 30, 30, 30, 30, 30, 30, 30, 30, 30, 30, 30, 30, 30, 30, 30, 30, 30, 30, 30, 30, 30, 30, 30, 30, 30, 30, 30, 30, 30, 30, 30, 30, 30, 30, 30, 30, 30, 30, 30, 30, 30, 30, 30, 30, 30, 30, 30, 30, 30, 30, 30, 30, 30, 30, 30, 30, 30, 30, 30, 30, 30, 30, 30, 30, 30, 30, 30, 30, 30, 30, 30, 30, 30, 30, 30, 30, 30, 30, 30, 30, 30, 30, 30, 30, 30, 30, 30, 30, 30, 30, 30, 30, 30, 30, 30, 30, 30, 30, 30, 30, 30, 30, 30, 30, 30, 30, 30, 30, 30, 30, 30, 30, 30, 30, 30, 30, 30, 30, 30, 30, 30, 30, 30, 30, 30, 30, 30, 30, 30, 30, 30, 30, 30, 30, 30, 30, 30, 30, 30, 30, 30, 30, 30, 30, 30, 30, 30, 30, 30, 30, 30, 30, 30, 30, 30, 30, 30, 30, 30, 30, 30, 30, 30, 30, 30, 30, 30, 30, 30, 30, 30, 30, 30, 30, 30, 30, 30, 30, 30, 30, 30, 30, 30, 30, 30, 30, 30, 30, 30, 30, 30, 30, 30, 30, 30, 30, 30, 30, 30, 30, 30, 30, 30, 30, 30, 30, 30, 30, 30, 30, 30, 30, 30, 30, 30, 30, 30, 30, 30, 30, 30, 30, 30, 30, 30, 30, 30, 30, 30, 30, 30, 30, 30, 30, 30, 30, 30, 30, 30, 30, 30, 30, 30, 30, 30, 30, 30, 30, 30, 30, 30, 30, 30, 30, 30, 30, 30, 30, 30, 30, 30, 30, 30, 30, 30, 30, 30, 30, 30, 30, 30, 30, 30, 30, 30, 30, 30, 30, 30, 30, 30, 30, 30, 30, 30, 30, 30, 30, 30, 30, 30, 30, 30, 30, 30, 30, 30, 30, 30, 30, 30, 30, 30, 30, 30, 30, 30, 30, 30, 30, 30, 30, 30, 30, 30, 30, 30, 30, 30, 30, 30, 30, 30, 30, 30, 30, 30, 30, 30, 30, 30, 30, 30, 30, 30, 30, 30, 30, 30, 30, 30, 30, 30, 30, 30, 30, 30, 30, 30, 30, 30, 30, 30, 30, 30, 30, 30, 30, 30, 30, 30, 30, 30, 30, 30, 30, 30, 30, 30, 30, 30, 30, 30, 30, 30, 30, 30, 30, 30, 30, 30, 30, 30, 30, 30, 30, 30, 30, 30, 30, 30, 30, 30, 30, 30, 30, 30, 30, 30, 30, 30, 30, 30, 30, 30, 30, 30, 30, 30, 30, 30, 30, 30, 30, 30, 30, 30, 30, 30, 30, 30, 30, 30, 30, 30, 30, 30, 30, 30, 30, 30, 30, 30, 30, 30, 30, 30, 30, 30, 30, 30, 30, 30, 30, 30, 30, 30, 30, 30, 30, 30, 30, 30, 30, 30, 30, 30, 30, 30, 30, 30, 30, 30, 30, 30, 30, 30, 30, 30, 30, 30, 30, 30, 30, 30, 30, 30, 30, 30, 30, 30, 30, 30, 30, 30, 30, 30, 30, 30, 30, 30, 30, 30, 30, 30, 30, 30, 30, 30, 30, 30, 30, 30, 30, 30, 30, 30, 30, 30, 30, 30, 30, 30, 30, 30, 30, 30, 30, 30, 30, 30, 30, 30, 30, 30, 30, 30, 30, 30, 30, 30, 30, 30, 30, 30, 30, 30, 30, 30, 30, 30, 30, 30, 30, 30, 30, 30, 30, 30, 30, 30, 30, 30, 30, 30, 30, 30, 30, 30, 30, 30, 30, 30, 30, 30, 30, 30, 30, 30, 30, 30, 30, 30, 30, 30, 30, 30, 30, 30, 30, 30, 30, 30, 30, 30, 30, 30, 30, 30, 30, 30, 30, 30, 30, 30, 30, 30, 30, 30, 30, 30, 30, 30, 30, 30, 30, 30, 30, 30, 30, 30, 30, 30, 30, 30, 30, 30, 30, 30, 30, 30, 30, 30, 30, 30, 30, 30, 30, 30, 30, 30, 30, 30, 30, 30, 30, 30, 30, 30, 30, 30, 30, 30, 30, 30, 30, 30, 30, 30, 30, 30, 30, 30, 30, 30, 30, 30, 30, 30, 30, 30, 30, 30, 30, 30, 30, 30, 30, 30, 30, 30, 30, 30, 30, 30, 30, 30, 30, 30, 30, 30, 30, 1]\n"
     ]
    }
   ],
   "source": [
    "print(\"There are\",len(tensors), \"tensors\")\n",
    "print(bond_dims)"
   ]
  },
  {
   "cell_type": "code",
   "execution_count": 26,
   "metadata": {
    "slideshow": {
     "slide_type": "subslide"
    }
   },
   "outputs": [
    {
     "name": "stdout",
     "output_type": "stream",
     "text": [
      "shape of a tensor is torch.Size([30, 2, 30])\n"
     ]
    }
   ],
   "source": [
    "print(\"shape of a tensor is\",tensors[5].shape)"
   ]
  },
  {
   "cell_type": "markdown",
   "metadata": {
    "slideshow": {
     "slide_type": "slide"
    }
   },
   "source": [
    "Question: does the contration with one image give a probability of the image?"
   ]
  },
  {
   "cell_type": "markdown",
   "metadata": {
    "slideshow": {
     "slide_type": "fragment"
    }
   },
   "source": [
    "Answer: No"
   ]
  },
  {
   "cell_type": "markdown",
   "metadata": {
    "slideshow": {
     "slide_type": "fragment"
    }
   },
   "source": [
    "<img src=\"assets/px.png\" width=\"1050px\"/>\n",
    "<img src=\"assets/Z.png\" width=\"1050px\"/>"
   ]
  },
  {
   "cell_type": "markdown",
   "metadata": {
    "slideshow": {
     "slide_type": "slide"
    }
   },
   "source": [
    "Canonicalization using QR decompositions\n",
    "* Left canonicalization using sequential QR decompositions. After that, all tensors except the right most ones are isometry with a column orthogonal unforded matrix\n",
    "<img src=\"./assets/image-20190430150813001.png\" width=\"300\">\n"
   ]
  },
  {
   "cell_type": "markdown",
   "metadata": {
    "slideshow": {
     "slide_type": "slide"
    }
   },
   "source": [
    "<img src=\"./assets/image-20190430150813001.png\" width=\"300\">"
   ]
  },
  {
   "cell_type": "code",
   "execution_count": 28,
   "metadata": {
    "slideshow": {
     "slide_type": "subslide"
    }
   },
   "outputs": [],
   "source": [
    "def orthogonalize(site,going_right):\n",
    "    dl=bond_dims[site-1] # left bond dimension\n",
    "    d=bond_dims[site]   # current bond dimension\n",
    "    if(going_right):\n",
    "        A=tensors[site].cpu().view(dl*2,d) # A is a matrix unfolded from the current tensor\n",
    "        Q,R=torch.qr(A)\n",
    "        R/=R.norm() # devided by norm \n",
    "        tensors[site] = Q.contiguous().view(dl,2,-1).to(mydevice)\n",
    "        tensors[site+1] = (R.to(mydevice)@tensors[site+1].view(d,-1)).view(-1,2,bond_dims[site+1])\n",
    "        bond_dims[site] = Q.shape[1] # economy QR, so the right dimension could be either dl or d\n",
    "    else: # going left\n",
    "        A=tensors[site].cpu().view(dl,d*2).t()\n",
    "        Q,R=torch.qr(A)\n",
    "        R/=R.norm() \n",
    "        tensors[site]=Q.t().contiguous().view(-1,2,d).to(mydevice)\n",
    "        tensors[site-1] = (tensors[site-1].view(-1,dl)@R.t().to(mydevice)).view(bond_dims[site-2],2,-1)\n",
    "        bond_dims[site-1] = Q.shape[1]\n"
   ]
  },
  {
   "cell_type": "markdown",
   "metadata": {
    "slideshow": {
     "slide_type": "subslide"
    }
   },
   "source": [
    "After the canonicalization:\n",
    "* It make the partition function of the model equals to $1$.  \n",
    "* The isometries have condition number $1$, preserving very well the computation precisions.\n",
    "\n",
    "<img src=\"assets/Z2.png\" width=\"1050px\"/>"
   ]
  },
  {
   "cell_type": "code",
   "execution_count": 30,
   "metadata": {
    "slideshow": {
     "slide_type": "subslide"
    }
   },
   "outputs": [
    {
     "name": "stdout",
     "output_type": "stream",
     "text": [
      " site #783 / 784           time_used=0.67 Sec.\n"
     ]
    }
   ],
   "source": [
    "t0=time.time()\n",
    "sys.stdout.write(\"Orthogonalizing...\\t\")\n",
    "for site in range(n-1):\n",
    "    sys.stdout.write(\"\\r site #%d / %d           \"%(site+1,n)); sys.stdout.flush()\n",
    "    orthogonalize(site,True)    \n",
    "sys.stdout.write(\"time_used=%.2f Sec.\\n\"%(time.time()-t0) )   "
   ]
  },
  {
   "cell_type": "code",
   "execution_count": 31,
   "metadata": {
    "slideshow": {
     "slide_type": "fragment"
    }
   },
   "outputs": [
    {
     "name": "stdout",
     "output_type": "stream",
     "text": [
      "The shape of the last tensor is torch.Size([30, 2, 1])\n"
     ]
    }
   ],
   "source": [
    "print(\"The shape of the last tensor is\",tensors[783].shape)"
   ]
  },
  {
   "cell_type": "markdown",
   "metadata": {
    "slideshow": {
     "slide_type": "slide"
    }
   },
   "source": [
    "Canonicalization changes the bond dimensions from\n",
    "<img src=\"assets/init.png\" width=\"650px\"/>\n",
    "to\n",
    "<img src=\"assets/init2.png\" width=\"650px\"/>"
   ]
  },
  {
   "cell_type": "code",
   "execution_count": 33,
   "metadata": {
    "scrolled": true,
    "slideshow": {
     "slide_type": "subslide"
    }
   },
   "outputs": [
    {
     "name": "stdout",
     "output_type": "stream",
     "text": [
      "[2, 4, 8, 16, 30, 30, 30, 30, 30, 30, 30, 30, 30, 30, 30, 30, 30, 30, 30, 30, 30, 30, 30, 30, 30, 30, 30, 30, 30, 30, 30, 30, 30, 30, 30, 30, 30, 30, 30, 30, 30, 30, 30, 30, 30, 30, 30, 30, 30, 30, 30, 30, 30, 30, 30, 30, 30, 30, 30, 30, 30, 30, 30, 30, 30, 30, 30, 30, 30, 30, 30, 30, 30, 30, 30, 30, 30, 30, 30, 30, 30, 30, 30, 30, 30, 30, 30, 30, 30, 30, 30, 30, 30, 30, 30, 30, 30, 30, 30, 30, 30, 30, 30, 30, 30, 30, 30, 30, 30, 30, 30, 30, 30, 30, 30, 30, 30, 30, 30, 30, 30, 30, 30, 30, 30, 30, 30, 30, 30, 30, 30, 30, 30, 30, 30, 30, 30, 30, 30, 30, 30, 30, 30, 30, 30, 30, 30, 30, 30, 30, 30, 30, 30, 30, 30, 30, 30, 30, 30, 30, 30, 30, 30, 30, 30, 30, 30, 30, 30, 30, 30, 30, 30, 30, 30, 30, 30, 30, 30, 30, 30, 30, 30, 30, 30, 30, 30, 30, 30, 30, 30, 30, 30, 30, 30, 30, 30, 30, 30, 30, 30, 30, 30, 30, 30, 30, 30, 30, 30, 30, 30, 30, 30, 30, 30, 30, 30, 30, 30, 30, 30, 30, 30, 30, 30, 30, 30, 30, 30, 30, 30, 30, 30, 30, 30, 30, 30, 30, 30, 30, 30, 30, 30, 30, 30, 30, 30, 30, 30, 30, 30, 30, 30, 30, 30, 30, 30, 30, 30, 30, 30, 30, 30, 30, 30, 30, 30, 30, 30, 30, 30, 30, 30, 30, 30, 30, 30, 30, 30, 30, 30, 30, 30, 30, 30, 30, 30, 30, 30, 30, 30, 30, 30, 30, 30, 30, 30, 30, 30, 30, 30, 30, 30, 30, 30, 30, 30, 30, 30, 30, 30, 30, 30, 30, 30, 30, 30, 30, 30, 30, 30, 30, 30, 30, 30, 30, 30, 30, 30, 30, 30, 30, 30, 30, 30, 30, 30, 30, 30, 30, 30, 30, 30, 30, 30, 30, 30, 30, 30, 30, 30, 30, 30, 30, 30, 30, 30, 30, 30, 30, 30, 30, 30, 30, 30, 30, 30, 30, 30, 30, 30, 30, 30, 30, 30, 30, 30, 30, 30, 30, 30, 30, 30, 30, 30, 30, 30, 30, 30, 30, 30, 30, 30, 30, 30, 30, 30, 30, 30, 30, 30, 30, 30, 30, 30, 30, 30, 30, 30, 30, 30, 30, 30, 30, 30, 30, 30, 30, 30, 30, 30, 30, 30, 30, 30, 30, 30, 30, 30, 30, 30, 30, 30, 30, 30, 30, 30, 30, 30, 30, 30, 30, 30, 30, 30, 30, 30, 30, 30, 30, 30, 30, 30, 30, 30, 30, 30, 30, 30, 30, 30, 30, 30, 30, 30, 30, 30, 30, 30, 30, 30, 30, 30, 30, 30, 30, 30, 30, 30, 30, 30, 30, 30, 30, 30, 30, 30, 30, 30, 30, 30, 30, 30, 30, 30, 30, 30, 30, 30, 30, 30, 30, 30, 30, 30, 30, 30, 30, 30, 30, 30, 30, 30, 30, 30, 30, 30, 30, 30, 30, 30, 30, 30, 30, 30, 30, 30, 30, 30, 30, 30, 30, 30, 30, 30, 30, 30, 30, 30, 30, 30, 30, 30, 30, 30, 30, 30, 30, 30, 30, 30, 30, 30, 30, 30, 30, 30, 30, 30, 30, 30, 30, 30, 30, 30, 30, 30, 30, 30, 30, 30, 30, 30, 30, 30, 30, 30, 30, 30, 30, 30, 30, 30, 30, 30, 30, 30, 30, 30, 30, 30, 30, 30, 30, 30, 30, 30, 30, 30, 30, 30, 30, 30, 30, 30, 30, 30, 30, 30, 30, 30, 30, 30, 30, 30, 30, 30, 30, 30, 30, 30, 30, 30, 30, 30, 30, 30, 30, 30, 30, 30, 30, 30, 30, 30, 30, 30, 30, 30, 30, 30, 30, 30, 30, 30, 30, 30, 30, 30, 30, 30, 30, 30, 30, 30, 30, 30, 30, 30, 30, 30, 30, 30, 30, 30, 30, 30, 30, 30, 30, 30, 30, 30, 30, 30, 30, 30, 30, 30, 30, 30, 30, 30, 30, 30, 30, 30, 30, 30, 30, 30, 30, 30, 30, 30, 30, 30, 30, 30, 30, 30, 30, 30, 30, 30, 30, 30, 30, 30, 30, 30, 30, 30, 30, 30, 30, 30, 30, 30, 30, 30, 30, 30, 30, 30, 30, 30, 30, 30, 30, 30, 30, 30, 30, 30, 30, 30, 30, 30, 30, 30, 30, 30, 30, 30, 30, 30, 30, 30, 30, 30, 30, 30, 30, 30, 30, 30, 30, 30, 30, 30, 30, 30, 30, 30, 30, 30, 30, 30, 30, 30, 30, 30, 30, 30, 30, 30, 30, 30, 30, 30, 30, 30, 1]\n"
     ]
    }
   ],
   "source": [
    "print(bond_dims)"
   ]
  },
  {
   "cell_type": "markdown",
   "metadata": {
    "slideshow": {
     "slide_type": "slide"
    }
   },
   "source": [
    "Now contracting mps with one image gives the probability amplitude of the image, becuase\n",
    "<img src=\"assets/Z2.png\" width=\"1050px\"/>\n",
    "and ?"
   ]
  },
  {
   "cell_type": "code",
   "execution_count": 36,
   "metadata": {
    "slideshow": {
     "slide_type": "fragment"
    }
   },
   "outputs": [],
   "source": [
    "def get_psi():\n",
    "    psi=torch.ones([m,1,1],device=mydevice)\n",
    "    for site in range(n):\n",
    "        psi = psi @ tensors[site][:,data[:,site],:].permute(1,0,2)\n",
    "    return(psi)"
   ]
  },
  {
   "cell_type": "markdown",
   "metadata": {
    "slideshow": {
     "slide_type": "slide"
    }
   },
   "source": [
    "Generating samples using the *ancestra* sampling\n",
    "<img src=\"assets/gen1.png\" width=\"1000px\"/>"
   ]
  },
  {
   "cell_type": "markdown",
   "metadata": {
    "slideshow": {
     "slide_type": "subslide"
    }
   },
   "source": [
    "<img src=\"assets/gen2.png\" width=\"1000px\"/>"
   ]
  },
  {
   "cell_type": "markdown",
   "metadata": {
    "slideshow": {
     "slide_type": "subslide"
    }
   },
   "source": [
    "<img src=\"assets/gen3.png\" width=\"1000px\"/>"
   ]
  },
  {
   "cell_type": "markdown",
   "metadata": {
    "slideshow": {
     "slide_type": "subslide"
    }
   },
   "source": [
    "<img src=\"assets/gen4.png\" width=\"1000px\"/>"
   ]
  },
  {
   "cell_type": "code",
   "execution_count": 38,
   "metadata": {
    "slideshow": {
     "slide_type": "fragment"
    }
   },
   "outputs": [],
   "source": [
    "def gen_samples(ns):\n",
    "    samples=torch.zeros([ns,n],device=mydevice)\n",
    "    for site in range(n-1):# left canonicalize\n",
    "        orthogonalize(site,True) \n",
    "    for s in range(ns):\n",
    "        vec=torch.ones(1,1,device=mydevice)\n",
    "        for site in range(n-1,-1,-1):\n",
    "            vec = (tensors[site].view(-1,bond_dims[site])@vec).view(-1,2)\n",
    "            p0 = vec[:,0].norm()**2/ (vec.norm()**2)\n",
    "            x = (0 if np.random.rand() < p0 else 1)\n",
    "            vec = vec[:,x]\n",
    "            samples[s][site]=x\n",
    "    return samples"
   ]
  },
  {
   "cell_type": "markdown",
   "metadata": {
    "slideshow": {
     "slide_type": "slide"
    }
   },
   "source": [
    "### Initialize cache for MPS\n",
    "* Computing probability of a image --> contracting from the first tensor to the last tensor. "
   ]
  },
  {
   "cell_type": "markdown",
   "metadata": {
    "slideshow": {
     "slide_type": "fragment"
    }
   },
   "source": [
    "* Lots of computation results can be re-used in the future computations."
   ]
  },
  {
   "cell_type": "markdown",
   "metadata": {
    "slideshow": {
     "slide_type": "fragment"
    }
   },
   "source": [
    "* We would store the contraction results in the cache."
   ]
  },
  {
   "cell_type": "markdown",
   "metadata": {
    "slideshow": {
     "slide_type": "fragment"
    }
   },
   "source": [
    "* Notice that the cache is for all images."
   ]
  },
  {
   "cell_type": "code",
   "execution_count": 39,
   "metadata": {
    "slideshow": {
     "slide_type": "subslide"
    }
   },
   "outputs": [
    {
     "name": "stdout",
     "output_type": "stream",
     "text": [
      "Caching...\ttime_used=0.13 Sec."
     ]
    }
   ],
   "source": [
    "t0=time.time()\n",
    "cache=[] \n",
    "sys.stdout.write(\"Caching...\\t\")\n",
    "sys.stdout.flush()\n",
    "cache.append( torch.ones([m,1,1],device=mydevice)) # The initial elements, all images have cache 1\n",
    "for site in range(n-1):\n",
    "    B=cache[site] @ tensors[site][:,data[:,site],:].permute(1,0,2)\n",
    "    B /= B.abs().max()\n",
    "    cache.append(  B  ) # batched matrix multiplications\n",
    "cache.append( torch.ones(m,1,1,device=mydevice)) # the last element, matrix [1,1] for all images\n",
    "sys.stdout.write(\"time_used=%.2f Sec.\"%(time.time()-t0) )"
   ]
  },
  {
   "cell_type": "markdown",
   "metadata": {
    "slideshow": {
     "slide_type": "slide"
    }
   },
   "source": [
    "* ```B /= B.abs().max()``` is used to preserve computational precision"
   ]
  },
  {
   "cell_type": "markdown",
   "metadata": {
    "slideshow": {
     "slide_type": "fragment"
    }
   },
   "source": [
    "* Because the gradient is invariant by multiplying the cache by a constant, for each image.  "
   ]
  },
  {
   "cell_type": "markdown",
   "metadata": {
    "slideshow": {
     "slide_type": "fragment"
    }
   },
   "source": [
    "* Length of the cache is $n+1$. "
   ]
  },
  {
   "cell_type": "markdown",
   "metadata": {
    "slideshow": {
     "slide_type": "fragment"
    }
   },
   "source": [
    "* For an image, each pixel has a correponding vector, denoting the temporary results in tensor contractions (from left to right or from right to left)."
   ]
  },
  {
   "cell_type": "markdown",
   "metadata": {
    "slideshow": {
     "slide_type": "subslide"
    }
   },
   "source": [
    "Let us look at the content of cache for image alpha=1:"
   ]
  },
  {
   "cell_type": "code",
   "execution_count": 44,
   "metadata": {
    "scrolled": false,
    "slideshow": {
     "slide_type": "fragment"
    }
   },
   "outputs": [
    {
     "name": "stdout",
     "output_type": "stream",
     "text": [
      "cache site 1  tensor([[1.]])\n",
      "cache site 2  tensor([[-0.0853,  1.0000]])\n",
      "cache site 3  tensor([[ 1.0000,  0.0972, -0.4895,  0.7524]])\n"
     ]
    }
   ],
   "source": [
    "alpha=1 # the image 1\n",
    "print(\"cache site 1 \",cache[0][alpha])\n",
    "print(\"cache site 2 \",cache[1][alpha])\n",
    "print(\"cache site 3 \",cache[2][alpha])"
   ]
  },
  {
   "cell_type": "markdown",
   "metadata": {
    "slideshow": {
     "slide_type": "subslide"
    }
   },
   "source": [
    "Then the probability amplitude $\\psi$ for images is given by $|\\psi|^2$ , let us check!"
   ]
  },
  {
   "cell_type": "code",
   "execution_count": 42,
   "metadata": {
    "scrolled": true,
    "slideshow": {
     "slide_type": "fragment"
    }
   },
   "outputs": [
    {
     "name": "stdout",
     "output_type": "stream",
     "text": [
      "Probability of generating image 3 = 0.00000\n"
     ]
    }
   ],
   "source": [
    "psi=get_psi()\n",
    "print(\"Probability of generating image 3 = %.5f\"%(psi*psi)[3])"
   ]
  },
  {
   "cell_type": "markdown",
   "metadata": {
    "slideshow": {
     "slide_type": "subslide"
    }
   },
   "source": [
    "**Let us plot probability of all training images**"
   ]
  },
  {
   "cell_type": "code",
   "execution_count": 43,
   "metadata": {
    "slideshow": {
     "slide_type": "fragment"
    }
   },
   "outputs": [
    {
     "data": {
      "image/png": "[encoded data removed]",
      "text/plain": [
       "<Figure size 720x144 with 1 Axes>"
      ]
     },
     "metadata": {
      "needs_background": "light"
     },
     "output_type": "display_data"
    }
   ],
   "source": [
    "ax=plt.bar(range(1,psi.shape[0]+1),(psi.cpu()**2).squeeze())"
   ]
  },
  {
   "cell_type": "markdown",
   "metadata": {
    "slideshow": {
     "slide_type": "subslide"
    }
   },
   "source": [
    "**Hey, the probability is $0$, what is wrong?**  "
   ]
  },
  {
   "cell_type": "markdown",
   "metadata": {
    "slideshow": {
     "slide_type": "fragment"
    }
   },
   "source": [
    "* Because the space is too large and the model is randomly initialized!"
   ]
  },
  {
   "cell_type": "markdown",
   "metadata": {
    "slideshow": {
     "slide_type": "fragment"
    }
   },
   "source": [
    "* Indeed, the purpose of training is exactly to increase the probability of given images. "
   ]
  },
  {
   "cell_type": "markdown",
   "metadata": {
    "slideshow": {
     "slide_type": "fragment"
    }
   },
   "source": [
    "* This is the so-called *maximum likelihood learning*."
   ]
  },
  {
   "cell_type": "markdown",
   "metadata": {
    "slideshow": {
     "slide_type": "fragment"
    }
   },
   "source": [
    "* The procedure is sweeping back and force, from right to left, then from left to right. "
   ]
  },
  {
   "cell_type": "markdown",
   "metadata": {
    "slideshow": {
     "slide_type": "fragment"
    }
   },
   "source": [
    "* During each sweep, the visited tensor is updated according to the *gradients* of the log-probability with respect to tensor elements."
   ]
  },
  {
   "cell_type": "markdown",
   "metadata": {
    "slideshow": {
     "slide_type": "slide"
    }
   },
   "source": [
    "## Training MPS\n",
    "<img src=\"imgs/training.png\" width=\"1000px\"/>"
   ]
  },
  {
   "cell_type": "markdown",
   "metadata": {
    "slideshow": {
     "slide_type": "slide"
    }
   },
   "source": [
    "** Computing gradient **\n",
    "\n",
    "$\\mathcal{L}=-\\frac{1}{m}\\sum_{\\mathbf{x}\\in\\mathrm{data}}\\ln P(\\mathbf{x})$\n",
    "\n",
    "$\\nabla \\mathcal{L}=-\\frac{2}{m}\\sum_{\\mathbf{x}\\in\\mathrm{data}}\\frac{\\psi'(\\mathbf{x})}{\\psi(\\mathbf{x})}+\\frac{Z'}{Z}$\n",
    "<img src=\"assets/gradients.png\" width=\"600px\"/>"
   ]
  },
  {
   "cell_type": "markdown",
   "metadata": {
    "slideshow": {
     "slide_type": "slide"
    }
   },
   "source": [
    "Some tips on the code:\n",
    "* Only images with $i^{\\mathrm{th}}$ element $v_i$ contribute to tensor element $A_{w_{i-1},v_i,w_i}$.\n",
    "* ```torch.sum(left_vec.permute(0,2,1) @ right_vec.permute(0,2,1)``` computes $\\Psi'(\\mathbf{x})$.\n",
    "* ```psi = left_vec @ A.permute(1,0,2) @right_vec ``` does not compute _real_ $\\Psi$, as cache is rescaled to preserve precision. Thus one needs to call ```psi=get_psi()``` in order to compute correct probability amplitude $\\Psi$.\n"
   ]
  },
  {
   "cell_type": "markdown",
   "metadata": {
    "slideshow": {
     "slide_type": "subslide"
    }
   },
   "source": [
    "* ```tensors_bak=tensors.copy()``` is to backup the training environment for restoring after generating images.\n",
    "* ```@``` operator in ```left_vec @ A.permute(1,0,2) @right_vec ``` and in ```cache[site] @ tensors[site][:,data[:,site],:].permute(1,0,2)``` works as batched matrix-matrix multiplications.\n",
    "* In ```orthogonalize()```, imposing matrix $R$ to be norm-one using ```R/=R.norm() ``` actually let the partition function $Z=1$."
   ]
  },
  {
   "cell_type": "markdown",
   "metadata": {},
   "source": [
    "**Begin Learning:**"
   ]
  },
  {
   "cell_type": "code",
   "execution_count": 45,
   "metadata": {
    "scrolled": false,
    "slideshow": {
     "slide_type": "slide"
    }
   },
   "outputs": [
    {
     "name": "stdout",
     "output_type": "stream",
     "text": [
      " Epoch #0, site #783 / 784           NLL=72.145, LowerBound=2.996, total_prob=0.000 time_used=3.40 Sec.\n",
      " generating samples..."
     ]
    },
    {
     "data": {
      "image/png": "[encoded data removed]",
      "text/plain": [
       "<Figure size 720x144 with 1 Axes>"
      ]
     },
     "metadata": {
      "needs_background": "light"
     },
     "output_type": "display_data"
    },
    {
     "data": {
      "image/png": "[encoded data removed]",
      "text/plain": [
       "<Figure size 1080x144 with 30 Axes>"
      ]
     },
     "metadata": {},
     "output_type": "display_data"
    },
    {
     "name": "stdout",
     "output_type": "stream",
     "text": [
      "Press any key to continue, or 'stop' to quit stop\n"
     ]
    }
   ],
   "source": [
    "learning_rate=0.08\n",
    "for epoch in range(9):    # one sweep, from right to left, then from left to right\n",
    "    going_right=False\n",
    "    t0=time.time()\n",
    "    for site in [i for i in range(n-1,0,-1)]+[i for i in range(n-1)]:\n",
    "        # to update tensors[site] which is a 3-way tensor of size [dl,2,dr]\n",
    "        sys.stdout.write(\"\\r Epoch #%d, site #%d / %d           \"%(epoch, site+1,n)); sys.stdout.flush()\n",
    "        if(site==0): going_right=True\n",
    "        gradients = torch.zeros_like(tensors[site],device=mydevice)\n",
    "        for i in [0,1]: # the pixel could be either 0 or 1\n",
    "            idx=(data[:,site]==i).nonzero().type(torch.LongTensor).squeeze() # this returns indices of non-zero elements\n",
    "            if(idx.numel()==0): continue\n",
    "            left_vec = cache[site][idx,:,:] # a vector on the left of the site\n",
    "            right_vec = cache[site+1][idx,:,:] # a vector on the right of the site\n",
    "            A=tensors[site][:,data[idx,site],:]\n",
    "            if(idx.numel()==1): \n",
    "                A=A.view(A.shape[0],1,A.shape[1])\n",
    "                left_vec=left_vec.view(1,left_vec.shape[0],left_vec.shape[1])\n",
    "                right_vec=right_vec.view(1,right_vec.shape[0],right_vec.shape[1])\n",
    "            psi = left_vec @ A.permute(1,0,2) @right_vec \n",
    "            gradients[:,i,:] = torch.sum(left_vec.permute(0,2,1) @ right_vec.permute(0,2,1) / psi,0) \n",
    "        gradients = 2.0*(gradients/m-tensors[site])  \n",
    "        tensors[site] += learning_rate * gradients/gradients.norm()\n",
    "        orthogonalize(site,going_right)\n",
    "        if(going_right): # Update cache\n",
    "            cache[site+1] = cache[site] @ tensors[site][:,data[:,site],:].permute(1,0,2)\n",
    "            cache[site+1] /= cache[site+1].abs().max()\n",
    "        else:\n",
    "            cache[site] = tensors[site][:,data[:,site],:].permute(1,0,2) @ cache[site+1]\n",
    "            cache[site] /= cache[site].abs().max()\n",
    "    psi=get_psi()\n",
    "    tensors_bak=tensors.copy()\n",
    "    sys.stdout.write(\"NLL=%.3f, LowerBound=%.3f, total_prob=%.3f time_used=%.2f Sec.\"%(-torch.mean(torch.log(psi*psi)),math.log(m),torch.sum(psi.squeeze()**2),time.time()-t0 ))\n",
    "    sys.stdout.write(\"\\n generating samples...\")\n",
    "    ax=plt.bar(range(1,psi.shape[0]+1),psi.cpu().squeeze()**2)\n",
    "    imgs=gen_samples(30)\n",
    "    show_imgs(imgs,2,15,15,2)\n",
    "    tensors=tensors_bak.copy()\n",
    "    if(epoch < 8):\n",
    "        a=input(\"Press any key to continue, or 'stop' to quit \")\n",
    "        if (a==\"stop\"):\n",
    "            break\n"
   ]
  },
  {
   "cell_type": "markdown",
   "metadata": {},
   "source": [
    "### References for further reading:\n",
    "* Ulrich Schollwock, “The density-matrix renormalization group in the age of matrix product states,” Annals of Physics 326, 96– 192 (2011).\n",
    "* Tamara G. Kolda, and Brett W. Bader, \"Tensor decompositions and applications\", SIAM review 51, 455 (2009).\n",
    "* Ivan V Oseledets, “Tensor-train decomposition,” SIAM Journal on Scientific Computing 33, 2295–2317 (2011).\n",
    "* Edwin Miles Miles Stoudenmire and David J. Schwab, “Supervised Learning with Quantum-Inspired Tensor Networks,” Advances in Neural Information Processing Systems 29, 4799 (2016), arXiv:1605.05775.\n",
    "* Alexander Novikov, Mikhail Trofimov, and Ivan Oseledets, “Exponential machines,” arXiv:1605.05775 (2016).\n",
    "* Jinguo Liu, and Lei Wang,Differentiable Learning of Quantum Circuit Born Machine, arXiv:1804.04168 (2018).\n",
    "* Edwin Miles Stoudenmire, “Learning relevant features of data with multi-scale tensor networks,” Quantum Science and Technology (2018)."
   ]
  },
  {
   "cell_type": "code",
   "execution_count": null,
   "metadata": {},
   "outputs": [],
   "source": []
  }
 ],
 "metadata": {
  "celltoolbar": "Slideshow",
  "kernelspec": {
   "display_name": "Python 3",
   "language": "python",
   "name": "python3"
  },
  "language_info": {
   "codemirror_mode": {
    "name": "ipython",
    "version": 3
   },
   "file_extension": ".py",
   "mimetype": "text/x-python",
   "name": "python",
   "nbconvert_exporter": "python",
   "pygments_lexer": "ipython3",
   "version": "3.7.3"
  }
 },
 "nbformat": 4,
 "nbformat_minor": 2
}
